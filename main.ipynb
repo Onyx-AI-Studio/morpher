{
 "cells": [
  {
   "cell_type": "code",
   "execution_count": 9,
   "id": "4645e540-a4d4-440d-ba2d-4888a7c8dbf3",
   "metadata": {},
   "outputs": [],
   "source": [
    "import requests\n",
    "import json\n",
    "from string import Template"
   ]
  },
  {
   "cell_type": "code",
   "execution_count": 7,
   "id": "b56461c5-4f42-4b5f-809a-b823194d7b36",
   "metadata": {},
   "outputs": [],
   "source": [
    "def ollama_generate(input: str, model = \"zephyr-beta\"):\n",
    "    url = \"http://localhost:11434/api/generate\"\n",
    "    \n",
    "    payload = json.dumps({\n",
    "      \"model\": model,\n",
    "      \"prompt\": input,\n",
    "      \"stream\": False\n",
    "    })\n",
    "    headers = {\n",
    "      'Content-Type': 'application/json'\n",
    "    }\n",
    "    \n",
    "    response = requests.request(\"POST\", url, headers=headers, data=payload)\n",
    "    return json.loads(response.text)['response'].strip()"
   ]
  },
  {
   "cell_type": "code",
   "execution_count": 11,
   "id": "52369b6f-e654-4917-ab70-b17b5eaecf3a",
   "metadata": {},
   "outputs": [
    {
     "name": "stdout",
     "output_type": "stream",
     "text": [
      "Hi there! I'm here to help you out with anything you need. Just let me know what you're looking for and I'll do my best to assist you. Have a great day!\n"
     ]
    }
   ],
   "source": [
    "chat_template = Template(\"\"\"<|system|>\n",
    "You are a friendly chatbot who always helpful, harmless and honest.</s>\n",
    "<|user|>\n",
    "$input</s>\n",
    "<|assistant|>\"\"\")\n",
    "\n",
    "prompt = chat_template.substitute(input=\"Hello!\")\n",
    "print(ollama_generate(prompt))"
   ]
  },
  {
   "cell_type": "code",
   "execution_count": null,
   "id": "c0a21563-daa2-4687-a82d-280d464ef8fc",
   "metadata": {},
   "outputs": [],
   "source": []
  }
 ],
 "metadata": {
  "kernelspec": {
   "display_name": "Python 3 (ipykernel)",
   "language": "python",
   "name": "python3"
  },
  "language_info": {
   "codemirror_mode": {
    "name": "ipython",
    "version": 3
   },
   "file_extension": ".py",
   "mimetype": "text/x-python",
   "name": "python",
   "nbconvert_exporter": "python",
   "pygments_lexer": "ipython3",
   "version": "3.11.6"
  }
 },
 "nbformat": 4,
 "nbformat_minor": 5
}
