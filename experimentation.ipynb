{
 "cells": [
  {
   "cell_type": "code",
   "execution_count": 9,
   "id": "b2859c66-45fa-437c-84d1-7fffedbe1ed0",
   "metadata": {},
   "outputs": [],
   "source": [
    "import requests\n",
    "import json\n",
    "from string import Template"
   ]
  },
  {
   "cell_type": "markdown",
   "id": "7dc4cf84-22f6-4351-af81-fafce84311a1",
   "metadata": {},
   "source": [
    "# LLM Setup"
   ]
  },
  {
   "cell_type": "code",
   "execution_count": 7,
   "id": "b56461c5-4f42-4b5f-809a-b823194d7b36",
   "metadata": {},
   "outputs": [],
   "source": [
    "def ollama_generate(input: str, model = \"zephyr-beta\"):\n",
    "    url = \"http://localhost:11434/api/generate\"\n",
    "    \n",
    "    payload = json.dumps({\n",
    "      \"model\": model,\n",
    "      \"prompt\": input,\n",
    "      \"stream\": False\n",
    "    })\n",
    "    headers = {\n",
    "      'Content-Type': 'application/json'\n",
    "    }\n",
    "    \n",
    "    response = requests.request(\"POST\", url, headers=headers, data=payload)\n",
    "    return json.loads(response.text)['response'].strip()"
   ]
  },
  {
   "cell_type": "code",
   "execution_count": 11,
   "id": "52369b6f-e654-4917-ab70-b17b5eaecf3a",
   "metadata": {},
   "outputs": [
    {
     "name": "stdout",
     "output_type": "stream",
     "text": [
      "Hi there! I'm here to help you out with anything you need. Just let me know what you're looking for and I'll do my best to assist you. Have a great day!\n"
     ]
    }
   ],
   "source": [
    "chat_template = Template(\"\"\"<|system|>\n",
    "You are a friendly chatbot who always helpful, harmless and honest.</s>\n",
    "<|user|>\n",
    "$input</s>\n",
    "<|assistant|>\"\"\")\n",
    "\n",
    "prompt = chat_template.substitute(input=\"Hello!\")\n",
    "print(ollama_generate(prompt))"
   ]
  },
  {
   "cell_type": "markdown",
   "id": "5439e17c-6c2f-4e93-a2f4-15bd61d0453e",
   "metadata": {},
   "source": [
    "# Tools"
   ]
  },
  {
   "cell_type": "code",
   "execution_count": 72,
   "id": "abfaba41-d094-498b-b2d6-a8d4d1779b0b",
   "metadata": {},
   "outputs": [],
   "source": [
    "def web_search(input: str):\n",
    "    # Use Serper API here\n",
    "    return \"Age of Tom Cruise is 42\""
   ]
  },
  {
   "cell_type": "code",
   "execution_count": 31,
   "id": "830abb13-6193-4292-978c-e33cd50dcef3",
   "metadata": {},
   "outputs": [],
   "source": [
    "def meaning_of_life():\n",
    "    return \"42 is the answer to life, the universe, and everything.\""
   ]
  },
  {
   "cell_type": "code",
   "execution_count": 52,
   "id": "82e844da-41c3-4e5e-8578-2230adf0c879",
   "metadata": {},
   "outputs": [],
   "source": [
    "def calculator():\n",
    "    return \"5\""
   ]
  },
  {
   "cell_type": "markdown",
   "id": "5c1ec960-b3e6-4ee6-8b2f-ac5186227f48",
   "metadata": {},
   "source": [
    "# System State"
   ]
  },
  {
   "cell_type": "code",
   "execution_count": 64,
   "id": "ae8e852f-6c6c-4988-bd94-82ba0a95994b",
   "metadata": {},
   "outputs": [],
   "source": [
    "system_state = {\n",
    "    \"task\": \"Calculate the double of the age of Tom Cruise\",\n",
    "    \"tools\": {\n",
    "        \"web_search\": {\n",
    "            \"func\": web_search,\n",
    "            \"description\": \"Useful to get information on an unknown topic by searching it online. Input must be a string.\",\n",
    "            # \"return_direct\": True\n",
    "        },\n",
    "        \"meaning_of_life\": {\n",
    "            \"func\": meaning_of_life,\n",
    "            \"description\": \"Useful to get the meaning of life. No inputs needed for this tool.\",\n",
    "        },\n",
    "        \"calculator\": {\n",
    "            \"func\": calculator,\n",
    "            \"description\": \"Useful to perform basic arithmetic operations. Input must be a string.\",\n",
    "        },\n",
    "    },\n",
    "    \"current_plan\": [],\n",
    "    \"short_term_memory\": [],\n",
    "}"
   ]
  },
  {
   "cell_type": "markdown",
   "id": "b6ee4408-af82-4cf5-b6a8-33d38a50af42",
   "metadata": {},
   "source": [
    "# Utility Functions"
   ]
  },
  {
   "cell_type": "code",
   "execution_count": 71,
   "id": "928e2c88-9a0c-4578-9762-4da71889b85c",
   "metadata": {},
   "outputs": [],
   "source": [
    "def get_current_tools():\n",
    "    tool_str = \"\"\n",
    "    for idx, tool in system_state['tools'].items():\n",
    "        # print(idx, tool['description'])\n",
    "        tool_str += f\"Name: {idx}\\nDescription: {tool['description']}\\n\\n\"\n",
    "    return tool_str.strip()\n",
    "\n",
    "# print(get_current_tools())"
   ]
  },
  {
   "cell_type": "markdown",
   "id": "bae7d9b5-5be6-4674-92e2-9d309bc5542f",
   "metadata": {},
   "source": [
    "# Re-planner Agent"
   ]
  },
  {
   "cell_type": "markdown",
   "id": "b35f1450-7ff7-4291-9c85-98682bc96a86",
   "metadata": {},
   "source": [
    "**Basic idea**: Based on Plan-and-execute type agents, but capable of more complex tasks as it is able to think and update the plan as and when needed. This helps it to tackle tasks with longer steps."
   ]
  },
  {
   "cell_type": "markdown",
   "id": "8d9bb1d7-ff59-480b-85b8-d9ccec0d8039",
   "metadata": {},
   "source": [
    "Flow of the program,\n",
    "1. `Think`: Keeping the current step in mind, choose the right tool from the arsenel with right input.\n",
    "2. `Act`: Execute the selected tool with the input from the previous step.\n",
    "3. `Observe`: Based on the output of the action step, extract relevant information.\n",
    "4. `Update`: Based on the available data till now, re-think and update the plan if needed."
   ]
  },
  {
   "cell_type": "markdown",
   "id": "33d3d534-b8fb-4d62-b876-b1be5acb5a91",
   "metadata": {},
   "source": [
    "## Think"
   ]
  },
  {
   "cell_type": "code",
   "execution_count": 70,
   "id": "4566f956-e8c3-4cf2-94da-ca6e5e197e8a",
   "metadata": {},
   "outputs": [
    {
     "name": "stdout",
     "output_type": "stream",
     "text": [
      "[\n",
      "  'Retrieve the current age of Tom Cruise using web_search',\n",
      "  'Convert the retrieved age to a number using calculator with input \"current age of tom cruise\"',\n",
      "  'Multiply the converted age by 2 using calculator with input \"converted age * 2\"'\n",
      "]\n"
     ]
    }
   ],
   "source": [
    "thought_template = Template(\"\"\"<|system|>\n",
    "You are an assistant who is always helpful, harmless and honest.</s>\n",
    "<|user|>\n",
    "Your task is to analyze complex tasks and break them down into smaller sub-tasks.\n",
    "\n",
    "Instructions:\n",
    "* Do not say your knowledge is out of date, just return the requested information.\n",
    "* Do not say you are a AI language model.\n",
    "* Do not perform the task just yet, analyze and break down the task and return the sub-tasks.\n",
    "* If a tool is used, sub-task must say something like, 'Use tool_a with X to do Y'.\n",
    "* Use only the tools mentioned below if and when needed.\n",
    "* The sub-tasks must not say 'store the data'. All the data is by default stored in memory.\n",
    "* Return the output in the form of an array, follow the below output format strictly.\n",
    "\n",
    "Tools:\n",
    "```\n",
    "$tools\n",
    "```\n",
    "\n",
    "Output format:\n",
    "```\n",
    "[\n",
    "    'sub-task 1', \n",
    "    'sub-task 2', \n",
    "    ...\n",
    "]\n",
    "```\n",
    "\n",
    "Task: $input\n",
    "\n",
    "Return the output in the specified format, do not deviate. Do not add any text before or after the output.</s>\n",
    "<|assistant|>\"\"\")\n",
    "\n",
    "prompt = thought_template.substitute(input=\"Calculate the double of the age of Tom Cruise\", tools=get_current_tools())\n",
    "# print(prompt)\n",
    "print(ollama_generate(prompt))"
   ]
  },
  {
   "cell_type": "code",
   "execution_count": null,
   "id": "c37c274b-bf88-4cf7-92d4-0cede016c4e3",
   "metadata": {},
   "outputs": [],
   "source": []
  },
  {
   "cell_type": "code",
   "execution_count": null,
   "id": "a0ea0372-9cd0-41ae-bd0d-9f644edd2fe8",
   "metadata": {},
   "outputs": [],
   "source": []
  },
  {
   "cell_type": "code",
   "execution_count": null,
   "id": "aee23190-e1f6-4919-b110-30e11d8ca36c",
   "metadata": {},
   "outputs": [],
   "source": []
  },
  {
   "cell_type": "code",
   "execution_count": null,
   "id": "74aa4815-0813-4756-837d-ca6bb2e0751a",
   "metadata": {},
   "outputs": [],
   "source": []
  },
  {
   "cell_type": "code",
   "execution_count": null,
   "id": "425171bc-ed3f-4259-8e21-63ad2a782366",
   "metadata": {},
   "outputs": [],
   "source": []
  },
  {
   "cell_type": "code",
   "execution_count": null,
   "id": "172c8c41-56ac-404a-a9b4-a7401fe7fec0",
   "metadata": {},
   "outputs": [],
   "source": []
  },
  {
   "cell_type": "code",
   "execution_count": null,
   "id": "dc3c9655-7ba3-49e6-b740-cfadcd39dcac",
   "metadata": {},
   "outputs": [],
   "source": []
  },
  {
   "cell_type": "code",
   "execution_count": null,
   "id": "6db9e1a3-dde6-4b00-89bb-30d8b952f3cd",
   "metadata": {},
   "outputs": [],
   "source": []
  },
  {
   "cell_type": "code",
   "execution_count": null,
   "id": "b8c3a514-c307-4e1e-a7e9-b82cf1b1bc2f",
   "metadata": {},
   "outputs": [],
   "source": []
  },
  {
   "cell_type": "code",
   "execution_count": null,
   "id": "dee2ba67-2159-440a-a489-4a988a4cfc1c",
   "metadata": {},
   "outputs": [],
   "source": []
  },
  {
   "cell_type": "code",
   "execution_count": null,
   "id": "b7fdf73d-0a8c-4b24-a7ac-59e4685678de",
   "metadata": {},
   "outputs": [],
   "source": []
  },
  {
   "cell_type": "code",
   "execution_count": null,
   "id": "fe4e74ce-312b-4fcd-9636-e7325db0f1b7",
   "metadata": {},
   "outputs": [],
   "source": []
  },
  {
   "cell_type": "code",
   "execution_count": null,
   "id": "36408efd-65a0-472e-8f59-06781af93b7e",
   "metadata": {},
   "outputs": [],
   "source": []
  },
  {
   "cell_type": "code",
   "execution_count": null,
   "id": "45b1c18b-8067-4611-b3a9-1e1cdc3f7029",
   "metadata": {},
   "outputs": [],
   "source": []
  },
  {
   "cell_type": "code",
   "execution_count": null,
   "id": "56dd1de8-05ad-4c91-ae98-be770b073dd4",
   "metadata": {},
   "outputs": [],
   "source": []
  },
  {
   "cell_type": "code",
   "execution_count": null,
   "id": "ea962bad-c86d-43cd-b32b-1444549dcc1e",
   "metadata": {},
   "outputs": [],
   "source": []
  },
  {
   "cell_type": "code",
   "execution_count": null,
   "id": "4ddbfcfa-72f2-4aa3-8d3a-3e15adad29e7",
   "metadata": {},
   "outputs": [],
   "source": []
  },
  {
   "cell_type": "code",
   "execution_count": null,
   "id": "02c57e91-0fed-4da6-aa9a-dd57f318ca82",
   "metadata": {},
   "outputs": [],
   "source": []
  }
 ],
 "metadata": {
  "kernelspec": {
   "display_name": "Python 3 (ipykernel)",
   "language": "python",
   "name": "python3"
  },
  "language_info": {
   "codemirror_mode": {
    "name": "ipython",
    "version": 3
   },
   "file_extension": ".py",
   "mimetype": "text/x-python",
   "name": "python",
   "nbconvert_exporter": "python",
   "pygments_lexer": "ipython3",
   "version": "3.11.6"
  }
 },
 "nbformat": 4,
 "nbformat_minor": 5
}
